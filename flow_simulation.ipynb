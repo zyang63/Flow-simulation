{
  "nbformat": 4,
  "nbformat_minor": 0,
  "metadata": {
    "colab": {
      "provenance": [],
      "authorship_tag": "ABX9TyPAF/0ASEy7s9Y/l8+hbn2A",
      "include_colab_link": true
    },
    "kernelspec": {
      "name": "python3",
      "display_name": "Python 3"
    },
    "language_info": {
      "name": "python"
    }
  },
  "cells": [
    {
      "cell_type": "markdown",
      "metadata": {
        "id": "view-in-github",
        "colab_type": "text"
      },
      "source": [
        "<a href=\"https://colab.research.google.com/github/zyang63/Flow-simulation/blob/main/flow_simulation.ipynb\" target=\"_parent\"><img src=\"https://colab.research.google.com/assets/colab-badge.svg\" alt=\"Open In Colab\"/></a>"
      ]
    },
    {
      "cell_type": "code",
      "source": [
        "%%capture\n",
        "!pip install bpy==4.0.0\n",
        "!apt-get install blender"
      ],
      "metadata": {
        "id": "YNJWOtHdVJNK"
      },
      "execution_count": 1,
      "outputs": []
    },
    {
      "cell_type": "code",
      "source": [
        "import os\n",
        "import bpy\n",
        "import bmesh\n",
        "from mathutils import Vector"
      ],
      "metadata": {
        "id": "agj5l6mw30I_"
      },
      "execution_count": 1,
      "outputs": []
    },
    {
      "cell_type": "code",
      "source": [
        "geometry_filepath = \"/content/SA30053 3D MODEL_Casting.stl\"\n",
        "gate_filepath = \"/content/all_gate.stl\"\n",
        "unit_to_m = 0.001\n",
        "number_of_pouring_gates = 2"
      ],
      "metadata": {
        "id": "--rDlHdq-P-n"
      },
      "execution_count": 2,
      "outputs": []
    },
    {
      "cell_type": "code",
      "source": [
        "bpy.ops.wm.read_factory_settings(use_empty=True)\n",
        "\n",
        "# Import STL mesh and apply remesh modifier\n",
        "bpy.ops.import_mesh.stl(filepath= geometry_filepath, global_scale= unit_to_m,)\n",
        "bpy.ops.import_mesh.stl(filepath= gate_filepath, global_scale= unit_to_m)\n",
        "\n",
        "# Get the active collection\n",
        "collection = bpy.context.collection\n",
        "\n",
        "# Create a new mesh to hold the merged geometry\n",
        "merged_mesh = bpy.data.meshes.new(name=\"MergedMesh\")\n",
        "merged_object = bpy.data.objects.new(\"MergedObject\", merged_mesh)\n",
        "\n",
        "# Link the new object to the active collection\n",
        "collection.objects.link(merged_object)\n",
        "\n",
        "# Select all objects in the collection\n",
        "bpy.ops.object.select_all(action='DESELECT')\n",
        "for obj in collection.objects:\n",
        "    obj.select_set(True)\n",
        "\n",
        "# Set the active object to the last selected object (for merging)\n",
        "bpy.context.view_layer.objects.active = collection.objects[-1]\n",
        "\n",
        "# Join the selected objects into the active object\n",
        "bpy.ops.object.join()\n",
        "\n",
        "# Update the mesh to reflect the changes\n",
        "merged_mesh.update()\n",
        "\n",
        "# Deselect all objects\n",
        "bpy.ops.object.select_all(action='DESELECT')\n",
        "\n",
        "# Select the merged object\n",
        "merged_object.select_set(True)\n",
        "\n",
        "# Set the active object to the merged object\n",
        "bpy.context.view_layer.objects.active = merged_object\n",
        "\n",
        "\n",
        "obj = bpy.context.active_object\n",
        "bpy.ops.object.modifier_add(type='REMESH')\n",
        "bpy.context.object.modifiers[\"Remesh\"].voxel_size = 0.005\n",
        "#bpy.context.space_data.shading.type = 'SOLID'\n",
        "bpy.ops.object.modifier_apply(modifier=\"Remesh\")\n",
        "obj = bpy.context.active_object\n",
        "\n",
        "def create_hexahedron_from_geometry(obj):\n",
        "    # Get the mesh data\n",
        "    mesh = obj.data\n",
        "    bm = bmesh.new()\n",
        "    bm.from_mesh(mesh)\n",
        "\n",
        "    # Initialize min and max coordinates\n",
        "    min_coords = Vector((float('inf'), float('inf'), float('inf')))\n",
        "    max_coords = Vector((-float('inf'), -float('inf'), -float('inf')))\n",
        "\n",
        "    # Find min and max coordinates\n",
        "    for vert in bm.verts:\n",
        "        for i in range(3):\n",
        "            min_coords[i] = min(min_coords[i], vert.co[i])\n",
        "            max_coords[i] = max(max_coords[i], vert.co[i])\n",
        "\n",
        "    # Calculate the size and location of the hexahedron\n",
        "    size = max_coords - min_coords\n",
        "    location = (min_coords + max_coords) / 2\n",
        "\n",
        "    # Create a new cube\n",
        "    bpy.ops.mesh.primitive_cube_add(size=1, location=(0, 0, 0))\n",
        "    cube = bpy.context.object\n",
        "\n",
        "    # Scale the cube to match the size of the hexahedron\n",
        "    cube.scale = size *2\n",
        "\n",
        "    # Move the cube to the center of the hexahedron\n",
        "    cube.location = location\n",
        "\n",
        "    # Apply a Boolean modifier to subtract the original geometry\n",
        "    bpy.context.view_layer.objects.active = bpy.data.objects[\"Cube\"]\n",
        "    modifier = bpy.ops.object.modifier_add(type='BOOLEAN')\n",
        "    bpy.context.object.modifiers[\"Boolean\"].operation = 'DIFFERENCE'\n",
        "    bpy.context.object.modifiers[\"Boolean\"].solver = 'FAST'\n",
        "    bpy.context.object.modifiers[\"Boolean\"].operand_type = 'OBJECT'\n",
        "    bpy.context.object.modifiers[\"Boolean\"].object = bpy.data.objects[\"MergedObject\"]\n",
        "\n",
        "    # Apply the modifier to perform the boolean operation\n",
        "\n",
        "    bpy.ops.object.modifier_apply(modifier=\"Boolean\")\n",
        "\n",
        "    # Cleanup\n",
        "    bm.free()\n",
        "\n",
        "    bpy.ops.mesh.primitive_cube_add(size=1, location=(0, 0, 0))\n",
        "    cube = bpy.context.object\n",
        "\n",
        "    # Scale the cube to match the size of the hexahedron\n",
        "    cube.scale = size *2.0001\n",
        "\n",
        "    # Move the cube to the center of the hexahedron\n",
        "    cube.location = location\n",
        "\n",
        "# Assume the active object is the input geometry\n",
        "input_obj = bpy.data.objects.get(\"MergedObject\")\n",
        "\n",
        "# Check if the active object is a mesh\n",
        "if input_obj and input_obj.type == 'MESH':\n",
        "    # Create hexahedron based on the input geometry\n",
        "    create_hexahedron_from_geometry(input_obj)\n",
        "else:\n",
        "    print(\"Select a mesh object as input.\")\n",
        "\n",
        "# Number of pouring files\n",
        "num_pouring_files = number_of_pouring_gates  # Change this to the number of pouring files you have\n",
        "\n",
        "for i in range(1, num_pouring_files + 1):\n",
        "    # Construct the filename and object name for the current pouring file\n",
        "    stl_file = f\"pouring_{i}.stl\"\n",
        "    object_name = f\"pouring_{i}\"\n",
        "\n",
        "    # Filepath for the current STL file\n",
        "    filepath = os.path.join(\"/content/\", stl_file)\n",
        "\n",
        "    # Import STL mesh\n",
        "    bpy.ops.import_mesh.stl(filepath = filepath, global_scale= unit_to_m)\n",
        "\n",
        "    # Get the pouring object based on the dynamically generated name\n",
        "    pouring_obj = bpy.data.objects.get(object_name)\n",
        "\n",
        "    if pouring_obj:\n",
        "        # Assuming you have a mesh named \"pouring\" and two cubes named \"Cube\" and \"Cube.001\"\n",
        "        cube1_obj = bpy.data.objects.get(\"Cube\")\n",
        "        cube2_obj = bpy.data.objects.get(\"Cube.001\")\n",
        "\n",
        "        # Set the active object to the pouring object\n",
        "        bpy.context.view_layer.objects.active = pouring_obj\n",
        "        bpy.ops.object.modifier_add(type='BOOLEAN')\n",
        "        bpy.context.object.modifiers[\"Boolean\"].operation = 'INTERSECT'\n",
        "        bpy.context.object.modifiers[\"Boolean\"].solver = 'FAST'\n",
        "        bpy.context.object.modifiers[\"Boolean\"].operand_type = 'OBJECT'\n",
        "        bpy.context.object.modifiers[\"Boolean\"].object = cube2_obj\n",
        "        bpy.ops.object.modifier_apply(modifier=\"Boolean\")\n",
        "\n",
        "        # Boolean operation: Subtract from \"Cube\"\n",
        "        bpy.context.view_layer.objects.active = bpy.data.objects[\"Cube\"]\n",
        "        modifier = bpy.ops.object.modifier_add(type='BOOLEAN')\n",
        "        bpy.context.object.modifiers[\"Boolean\"].operation = 'DIFFERENCE'\n",
        "        bpy.context.object.modifiers[\"Boolean\"].solver = 'FAST'\n",
        "        bpy.context.object.modifiers[\"Boolean\"].operand_type = 'OBJECT'\n",
        "        bpy.context.object.modifiers[\"Boolean\"].object = pouring_obj\n",
        "\n",
        "        # Apply the modifier to perform the boolean operation\n",
        "        bpy.ops.object.modifier_apply(modifier=\"Boolean\")\n",
        "\n",
        "        # Get the current location of the object's origin\n",
        "        origin_location = pouring_obj.location.copy()\n",
        "\n",
        "        # Find the center of the geometry\n",
        "        bpy.ops.object.origin_set(type='ORIGIN_CENTER_OF_MASS', center='BOUNDS')\n",
        "        geometry_center = pouring_obj.location.copy()\n",
        "\n",
        "        # Set the scale factors for the X, Y, and Z axes\n",
        "        scale_x = 0.8\n",
        "        scale_y = 0.8\n",
        "        scale_z = 0.8\n",
        "\n",
        "        # Apply the scale transformation to the object\n",
        "        pouring_obj.scale = (scale_x, scale_y, scale_z)\n",
        "\n",
        "        # Calculate the difference in location after scaling\n",
        "        location_difference = geometry_center - pouring_obj.location\n",
        "\n",
        "        # Move the object to align the scaled geometry center with the original geometry center\n",
        "        pouring_obj.location += location_difference\n",
        "\n",
        "file_path = \"/content/Die.blend\"\n",
        "# Save the file\n",
        "bpy.ops.wm.save_as_mainfile(filepath=file_path)"
      ],
      "metadata": {
        "colab": {
          "base_uri": "https://localhost:8080/"
        },
        "id": "cYxyBcyNlWF2",
        "outputId": "260a2ae2-132d-47b5-fbe4-a1725b0f74d2"
      },
      "execution_count": 3,
      "outputs": [
        {
          "output_type": "stream",
          "name": "stdout",
          "text": [
            "Import finished in 0.0033 sec.\n",
            "Import finished in 0.0005 sec.\n",
            "Import finished in 0.0002 sec.\n",
            "Import finished in 0.0003 sec.\n",
            "Info: Saved \"Die.blend\"\n"
          ]
        },
        {
          "output_type": "execute_result",
          "data": {
            "text/plain": [
              "{'FINISHED'}"
            ]
          },
          "metadata": {},
          "execution_count": 3
        }
      ]
    },
    {
      "cell_type": "code",
      "source": [
        "file_path = \"/content/Die.blend\"\n",
        "bpy.ops.wm.open_mainfile(filepath=file_path)\n",
        "\n",
        "# Set effector cube properties\n",
        "effector_cube = bpy.data.objects.get(\"Cube\")\n",
        "if effector_cube:\n",
        "    bpy.ops.object.select_all(action='DESELECT')\n",
        "    effector_cube.select_set(True)\n",
        "    bpy.context.view_layer.objects.active = effector_cube\n",
        "\n",
        "    # Set domain properties\n",
        "    bpy.ops.object.modifier_add(type='FLUID')\n",
        "    effector_modifier = effector_cube.modifiers[\"Fluid\"]\n",
        "    effector_modifier.fluid_type = 'EFFECTOR'\n",
        "else:\n",
        "    print(\"Error: 'Cube' not found in the scene.\")\n",
        "\n",
        "# Set liquid domain properties\n",
        "domain_cube = bpy.data.objects.get(\"Cube.001\")\n",
        "if domain_cube:\n",
        "    bpy.ops.object.select_all(action='DESELECT')\n",
        "    domain_cube.select_set(True)\n",
        "    bpy.context.view_layer.objects.active = domain_cube\n",
        "\n",
        "    # Set domain properties\n",
        "    bpy.ops.object.modifier_add(type='FLUID')\n",
        "    domain_modifier = domain_cube.modifiers[\"Fluid\"]\n",
        "    domain_modifier.fluid_type = 'DOMAIN'\n",
        "\n",
        "    # Set domain settings\n",
        "    domain_settings = domain_modifier.domain_settings\n",
        "    domain_settings.domain_type = 'LIQUID'\n",
        "    domain_settings.cache_directory = \"/content/\"\n",
        "    domain_settings.resolution_max = 150\n",
        "    domain_settings.cache_type = 'MODULAR'\n",
        "    bpy.context.object.modifiers[\"Fluid\"].domain_settings.cache_resumable = True\n",
        "    bpy.context.object.modifiers[\"Fluid\"].domain_settings.use_mesh = True\n",
        "    bpy.context.object.modifiers[\"Fluid\"].domain_settings.mesh_particle_radius = 2\n",
        "    bpy.context.object.modifiers[\"Fluid\"].domain_settings.cache_frame_end = 50\n",
        "\n",
        "else:\n",
        "    print(\"Error: 'Cube.001' not found in the scene.\")\n",
        "\n",
        "# Set pouring (inflow) object properties\n",
        "\n",
        "# Number of pouring files\n",
        "num_pouring_files = 2  # Change this to the number of pouring files you have\n",
        "\n",
        "for i in range(1, num_pouring_files + 1):\n",
        "    object_name = f\"pouring_{i}\"\n",
        "    inflow_obj = bpy.data.objects.get(object_name)\n",
        "    if inflow_obj:\n",
        "        bpy.ops.object.select_all(action='DESELECT')\n",
        "        inflow_obj.select_set(True)\n",
        "        bpy.context.view_layer.objects.active = inflow_obj\n",
        "\n",
        "        # Set inflow properties\n",
        "        bpy.ops.object.modifier_add(type='FLUID')\n",
        "        inflow_modifier = inflow_obj.modifiers[\"Fluid\"]\n",
        "        bpy.context.object.modifiers[\"Fluid\"].fluid_type = 'FLOW'\n",
        "        inflow_modifier.flow_settings.flow_type = 'LIQUID'\n",
        "        bpy.context.object.modifiers[\"Fluid\"].flow_settings.flow_behavior = 'INFLOW'\n",
        "        bpy.context.object.modifiers[\"Fluid\"].flow_settings.use_initial_velocity = True\n",
        "        bpy.context.object.modifiers[\"Fluid\"].flow_settings.velocity_coord[0] = 0\n",
        "        bpy.context.object.modifiers[\"Fluid\"].flow_settings.velocity_coord[1] = 30.5\n",
        "        bpy.context.object.modifiers[\"Fluid\"].flow_settings.velocity_coord[2] = 0\n",
        "\n",
        "    else:\n",
        "        print(\"Error: 'Pouring' not found in the scene.\")\n",
        "\n",
        "file_path = \"/content/flow_simulation_setting.blend\"\n",
        "# Save the file\n",
        "bpy.ops.wm.save_as_mainfile(filepath=file_path)"
      ],
      "metadata": {
        "colab": {
          "base_uri": "https://localhost:8080/",
          "height": 615
        },
        "id": "5843qjYE-epb",
        "outputId": "4ce77169-7dbf-4912-afdf-d698c21bb650"
      },
      "execution_count": 4,
      "outputs": [
        {
          "output_type": "error",
          "ename": "AttributeError",
          "evalue": "'LevelsetGrid' object has no attribute 'setConst'",
          "traceback": [
            "\u001b[0;31m---------------------------------------------------------------------------\u001b[0m",
            "\u001b[0;31mAttributeError\u001b[0m                            Traceback (most recent call last)",
            "\u001b[0;32m<manta_namespace>\u001b[0m in \u001b[0;36m<module>\u001b[0;34m\u001b[0m\n",
            "\u001b[0;31mAttributeError\u001b[0m: 'LevelsetGrid' object has no attribute 'setConst'"
          ]
        },
        {
          "output_type": "error",
          "ename": "AttributeError",
          "evalue": "'BasicParticleSystem' object has no attribute 'create'",
          "traceback": [
            "\u001b[0;31m---------------------------------------------------------------------------\u001b[0m",
            "\u001b[0;31mAttributeError\u001b[0m                            Traceback (most recent call last)",
            "\u001b[0;32m<manta_namespace>\u001b[0m in \u001b[0;36m<module>\u001b[0;34m\u001b[0m\n",
            "\u001b[0;31mAttributeError\u001b[0m: 'BasicParticleSystem' object has no attribute 'create'"
          ]
        },
        {
          "output_type": "error",
          "ename": "AttributeError",
          "evalue": "'LevelsetGrid' object has no attribute 'setConst'",
          "traceback": [
            "\u001b[0;31m---------------------------------------------------------------------------\u001b[0m",
            "\u001b[0;31mAttributeError\u001b[0m                            Traceback (most recent call last)",
            "\u001b[0;32m<manta_namespace>\u001b[0m in \u001b[0;36m<module>\u001b[0;34m\u001b[0m\n",
            "\u001b[0;31mAttributeError\u001b[0m: 'LevelsetGrid' object has no attribute 'setConst'"
          ]
        },
        {
          "output_type": "error",
          "ename": "AttributeError",
          "evalue": "'LevelsetGrid' object has no attribute 'setConst'",
          "traceback": [
            "\u001b[0;31m---------------------------------------------------------------------------\u001b[0m",
            "\u001b[0;31mAttributeError\u001b[0m                            Traceback (most recent call last)",
            "\u001b[0;32m<manta_namespace>\u001b[0m in \u001b[0;36m<module>\u001b[0;34m\u001b[0m\n",
            "\u001b[0;31mAttributeError\u001b[0m: 'LevelsetGrid' object has no attribute 'setConst'"
          ]
        },
        {
          "output_type": "stream",
          "name": "stdout",
          "text": [
            "Info: Saved \"flow_simulation_setting.blend\"\n"
          ]
        },
        {
          "output_type": "execute_result",
          "data": {
            "text/plain": [
              "{'FINISHED'}"
            ]
          },
          "metadata": {},
          "execution_count": 4
        }
      ]
    }
  ]
}